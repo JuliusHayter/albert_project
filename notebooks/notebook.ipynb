{
 "cells": [
  {
   "cell_type": "code",
   "execution_count": 84,
   "metadata": {},
   "outputs": [],
   "source": [
    "import selenium\n",
    "import time\n",
    "from selenium import webdriver\n",
    "from selenium.webdriver.common.by import By\n",
    "from selenium.webdriver.support.ui import WebDriverWait\n",
    "from selenium.webdriver.support import expected_conditions as EC\n",
    "from selenium.webdriver.common.keys import Keys\n",
    "from selenium.webdriver.common.action_chains import ActionChains\n",
    "import pandas as pd\n"
   ]
  },
  {
   "cell_type": "code",
   "execution_count": 85,
   "metadata": {},
   "outputs": [],
   "source": [
    "def get_text(xpath):\n",
    "    return driver.find_element(By.XPATH, xpath).text"
   ]
  },
  {
   "cell_type": "code",
   "execution_count": 86,
   "metadata": {},
   "outputs": [],
   "source": [
    "def click(xpath):\n",
    "    driver.find_element(By.XPATH, xpath).click()"
   ]
  },
  {
   "cell_type": "code",
   "execution_count": 87,
   "metadata": {},
   "outputs": [],
   "source": [
    "driver = webdriver.Chrome()\n",
    "driver.get(\"https://www.airbnb.fr/s/paris/homes?tab_id=home_tab&refinement_paths%5B%5D=%2Fhomes&flexible_trip_lengths%5B%5D=one_week&monthly_start_date=2024-05-01&monthly_length=3&monthly_end_date=2024-08-01&price_filter_input_type=0&channel=EXPLORE&date_picker_type=calendar&source=structured_search_input_header&search_type=filter_change&price_filter_num_nights=6&checkin=2024-05-06&checkout=2024-05-12&adults=2&children=2&query=Paris%2C%20France&place_id=ChIJD7fiBh9u5kcRYJSMaMOCCwQ&federated_search_session_id=62139ace-d3f9-42a5-876f-3a810c907664&pagination_search=true&cursor=eyJzZWN0aW9uX29mZnNldCI6MCwiaXRlbXNfb2Zmc2V0IjowLCJ2ZXJzaW9uIjoxfQ%3D%3D\")"
   ]
  },
  {
   "cell_type": "code",
   "execution_count": 38,
   "metadata": {},
   "outputs": [],
   "source": [
    "\n",
    "window_handles = driver.window_handles\n",
    "\n",
    "driver.switch_to.window(window_handles[-1])"
   ]
  },
  {
   "cell_type": "code",
   "execution_count": 89,
   "metadata": {},
   "outputs": [],
   "source": [
    "offre = driver.find_elements(By.XPATH, (\"//div[@role='group']\"))"
   ]
  },
  {
   "cell_type": "markdown",
   "metadata": {},
   "source": [
    "# Les équipements "
   ]
  },
  {
   "cell_type": "code",
   "execution_count": 56,
   "metadata": {},
   "outputs": [],
   "source": [
    "# cliquer sur afficher les équipements \n",
    "click(\"/html/body/div[5]/div/div/div[1]/div/div[2]/div/div/div/div[1]/main/div/div[1]/div[3]/div/div[1]/div/div[6]/div/div[2]/section/div[3]/button\")"
   ]
  },
  {
   "cell_type": "code",
   "execution_count": null,
   "metadata": {},
   "outputs": [],
   "source": [
    "/html/body/div[9]/div/div/section/div/div/div[2]/div/div[3]/div/div/div/section/div[2]/div[1]/ul/li[1]/div[1]\n",
    "/html/body/div[9]/div/div/section/div/div/div[2]/div/div[3]/div/div/div/section/div[2]/div[1]/ul/li[2]/div[1]\n",
    "/html/body/div[9]/div/div/section/div/div/div[2]/div/div[3]/div/div/div/section/div[2]/div[1]/ul/li[5]/div[1]\n",
    "/html/body/div[9]/div/div/section/div/div/div[2]/div/div[3]/div/div/div/section/div[2]/div[2]/ul/li[1]/div[1]"
   ]
  },
  {
   "cell_type": "code",
   "execution_count": 57,
   "metadata": {},
   "outputs": [
    {
     "data": {
      "text/plain": [
       "'Caméras de surveillance extérieure et/ou dans les espaces communs'"
      ]
     },
     "execution_count": 57,
     "metadata": {},
     "output_type": "execute_result"
    }
   ],
   "source": [
    "get_text('/html/body/div[9]/div/div/section/div/div/div[2]/div/div[3]/div/div/div/section/div[2]/div[8]/ul/li[1]/div[1]/div/div[2]/div/del')\n",
    "          /html/body/div[9]/div/div/section/div/div/div[2]/div/div[3]/div/div/div/section/div[2]/div[2]/ul/li[1]/div[1]/div/div[2]/div    "
   ]
  },
  {
   "cell_type": "code",
   "execution_count": null,
   "metadata": {},
   "outputs": [],
   "source": [
    "equipements = []"
   ]
  },
  {
   "cell_type": "code",
   "execution_count": 79,
   "metadata": {},
   "outputs": [
    {
     "name": "stdout",
     "output_type": "stream",
     "text": [
      "Salle de bain\n",
      "Baignoire\n",
      "\n",
      "\n",
      "Salle de bain\n",
      "Sèche-cheveux\n",
      "\n",
      "\n",
      "Salle de bain\n",
      "Produits de nettoyage\n",
      "\n",
      "\n",
      "Salle de bain\n",
      "Savon pour le corps\n",
      "\n",
      "\n",
      "Salle de bain\n",
      "Eau chaude\n",
      "\n",
      "\n",
      "Salle de bain\n",
      "Chambre et linge\n",
      "Lave-linge\n",
      "\n",
      "\n",
      "Chambre et linge\n",
      "Lave-linge\n",
      "\n",
      "\n",
      "Chambre et linge\n",
      "Équipements de base\n",
      "\n",
      "\n",
      "Chambre et linge\n",
      "Cintres\n",
      "\n",
      "\n",
      "Chambre et linge\n",
      "Draps\n",
      "\n",
      "\n",
      "Chambre et linge\n",
      "Stores\n",
      "\n",
      "\n",
      "Chambre et linge\n",
      "Fer à repasser\n",
      "\n",
      "\n",
      "Chambre et linge\n",
      "Étendoir à linge\n",
      "\n",
      "\n",
      "Chambre et linge\n",
      "Espace de rangement pour les vêtements : armoire et commode\n",
      "\n",
      "\n",
      "Chambre et linge\n",
      "Divertissement\n",
      "Piano\n",
      "\n",
      "\n",
      "Divertissement\n",
      "Piano\n",
      "\n",
      "\n",
      "Divertissement\n",
      "Chauffage et climatisation\n",
      "Ventilateurs portables\n",
      "\n",
      "\n",
      "Chauffage et climatisation\n",
      "Ventilateurs portables\n",
      "\n",
      "\n",
      "Chauffage et climatisation\n",
      "Chauffage central\n",
      "\n",
      "\n",
      "Chauffage et climatisation\n",
      "Sécurité à la maison\n",
      "Détecteur de fumée\n",
      "\n",
      "\n",
      "Sécurité à la maison\n",
      "Détecteur de fumée\n",
      "\n",
      "\n",
      "Sécurité à la maison\n",
      "Détecteur de monoxyde de carbone\n",
      "\n",
      "\n",
      "Sécurité à la maison\n",
      "Internet et bureau\n",
      "Wifi\n",
      "\n",
      "\n",
      "Internet et bureau\n",
      "Wifi\n",
      "\n",
      "\n",
      "Internet et bureau\n",
      "Espace de travail dédié\n",
      "\n",
      "\n",
      "Internet et bureau\n",
      "Cuisine et salle à manger\n",
      "Cuisine\n",
      "\n",
      "\n",
      "Cuisine et salle à manger\n",
      "Cuisine\n",
      "\n",
      "\n",
      "Cuisine et salle à manger\n",
      "Équipements de cuisine de base\n",
      "\n",
      "\n",
      "Cuisine et salle à manger\n",
      "Vaisselle et couverts\n",
      "\n",
      "\n",
      "Cuisine et salle à manger\n",
      "Congélateur\n",
      "\n",
      "\n",
      "Cuisine et salle à manger\n",
      "Lave-vaisselle\n",
      "\n",
      "\n",
      "Cuisine et salle à manger\n",
      "Four\n",
      "\n",
      "\n",
      "Cuisine et salle à manger\n",
      "Cafetière : cafetière à piston\n",
      "\n",
      "\n",
      "Cuisine et salle à manger\n",
      "Grille-pain\n",
      "\n",
      "\n",
      "Cuisine et salle à manger\n",
      "Table à manger\n",
      "\n",
      "\n",
      "Cuisine et salle à manger\n",
      "yo\n"
     ]
    }
   ],
   "source": [
    "k = 1\n",
    "j = 1\n",
    "for i in range(50):\n",
    "    try:\n",
    "        print(get_text(f\"/html/body/div[9]/div/div/section/div/div/div[2]/div/div[3]/div/div/div/section/div[2]/div[{k}]/div/h3\"))\n",
    "        print(get_text(f\"/html/body/div[9]/div/div/section/div/div/div[2]/div/div[3]/div/div/div/section/div[2]/div[{k}]/ul/li[{j}]/div[1]/div/div[2]/div\"))\n",
    "        print('\\n')\n",
    "        j+=1\n",
    "        equipements.append(get_text(f\"/html/body/div[9]/div/div/section/div/div/div[2]/div/div[3]/div/div/div/section/div[2]/div[{k}]/ul/li[{j}]/div[1]/div/div[2]/div\"))\n",
    "    except:\n",
    "        k+=1\n",
    "        j = 1\n",
    "        if get_text(f\"/html/body/div[9]/div/div/section/div/div/div[2]/div/div[3]/div/div/div/section/div[2]/div[{k}]/div/h3\") == 'Non inclus' : \n",
    "            break\n",
    "        print(get_text(f\"/html/body/div[9]/div/div/section/div/div/div[2]/div/div[3]/div/div/div/section/div[2]/div[{k}]/div/h3\"))\n",
    "        print(get_text(f\"/html/body/div[9]/div/div/section/div/div/div[2]/div/div[3]/div/div/div/section/div[2]/div[{k}]/ul/li[{j}]/div[1]/div/div[2]/div\"))\n",
    "        print(\"\\n\")\n",
    "\n",
    "\n"
   ]
  },
  {
   "cell_type": "code",
   "execution_count": 76,
   "metadata": {},
   "outputs": [
    {
     "data": {
      "text/plain": [
       "True"
      ]
     },
     "execution_count": 76,
     "metadata": {},
     "output_type": "execute_result"
    }
   ],
   "source": [
    "get_text('/html/body/div[9]/div/div/section/div/div/div[2]/div/div[3]/div/div/div/section/div[2]/div[8]/div/h3') == 'Non inclus'"
   ]
  },
  {
   "cell_type": "code",
   "execution_count": null,
   "metadata": {},
   "outputs": [],
   "source": []
  }
 ],
 "metadata": {
  "kernelspec": {
   "display_name": "Python 3.11.5 64-bit",
   "language": "python",
   "name": "python3"
  },
  "language_info": {
   "codemirror_mode": {
    "name": "ipython",
    "version": 3
   },
   "file_extension": ".py",
   "mimetype": "text/x-python",
   "name": "python",
   "nbconvert_exporter": "python",
   "pygments_lexer": "ipython3",
   "version": "3.11.5"
  },
  "orig_nbformat": 4,
  "vscode": {
   "interpreter": {
    "hash": "b0fa6594d8f4cbf19f97940f81e996739fb7646882a419484c72d19e05852a7e"
   }
  }
 },
 "nbformat": 4,
 "nbformat_minor": 2
}
